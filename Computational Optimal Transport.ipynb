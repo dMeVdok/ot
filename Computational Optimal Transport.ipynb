{
 "cells": [
  {
   "cell_type": "markdown",
   "metadata": {},
   "source": [
    "## From mappings between supports to mappings between measures\n",
    "\n",
    "Suppose we have measures $\\mu(x)$ and $\\nu(y)$ on spaces $X$ and $Y$ respectively.\n",
    "\n",
    "A mapping $T: X\\rightarrow Y$ creates a **push-forward operator** $T_\\#: M(X)\\rightarrow M(Y)$ (acting between spaces of measures with supports $X$ and $Y$), if:\n",
    "\n",
    "$$\\int h(T(x))d\\mu = \\int h(y)d\\nu \\;\\;\\;\\forall h - \\text{continuous function on }Y$$\n",
    "\n",
    "Or, equivalently, if for any measurable set $B\\subset Y$:\n",
    "\n",
    "$$\\nu(B) = \\mu(T^{-1}(B))$$"
   ]
  },
  {
   "cell_type": "markdown",
   "metadata": {},
   "source": [
    "## Monge Problem\n",
    "\n",
    "Having a non-negative cost of transportation between two support points $c(x,y)\\geq 0$, we want to minimize the transportation cost of the whole $\\mu$'s mass to $\\nu$. This problem is called the **Monge problem:**\n",
    "\n",
    "$$\\inf_T \\; \\biggl\\{ \\int c(x,T(x))d\\mu \\; \\bigg| \\; T_\\#\\mu = \\nu \\biggr\\}$$\n",
    "\n",
    "There are two troubles with the Monge problem:\n",
    "\n",
    "1. It doesn't let us to split the mass while transporting\n",
    "2. To solve it, we need to differentiate w.r.t. push-forward operator, which is hard to do\n"
   ]
  },
  {
   "cell_type": "markdown",
   "metadata": {},
   "source": [
    "## Kantorovich Relaxation\n",
    "\n",
    "We can let splitting the mass via introducing a **Kantorovich Relaxation**. It is another problem of the shape:\n",
    "\n",
    "$$\\inf_\\pi\\; \\biggl\\{ \\int c(x,y) d\\pi \\; \\bigg| \\; P_{x\\#}\\pi = \\mu, \\; P_{y\\#}\\pi = \\nu \\biggr\\},$$\n",
    "\n",
    "$\\pi$ is called a **coupling** between $\\mu$ and $\\nu$. $P_x(x,y) = x, \\;\\;P_y(x,y) = y$ – projectors on $X$ and $Y$ respectively, in short the requirement after the straight line can be written as $\\pi\\in\\Pi(\\mu,\\nu)$ (space of all couplings between $\\mu$ and $\\nu$)\n",
    "\n",
    "However, the Kantorovich relaxation is still hard to differentiate (since we need to satisfy $\\pi\\in\\Pi$)"
   ]
  },
  {
   "cell_type": "markdown",
   "metadata": {},
   "source": [
    "## Dual Kantorovich problem\n",
    "\n",
    "Let's consider the following object:\n",
    "\n",
    "$$ l_\\Pi(\\pi) = \\sup_{u,v} \\;\\biggl\\{ \\int u(x) d\\mu + \\int v(y) d\\nu - \\int (u(x)+v(y))d\\pi \\biggr\\}$$\n",
    "\n",
    "If $\\pi\\in\\Pi$, then $u(x)d\\pi = u(x)d\\mu$ (same for $v/\\nu$), hence:\n",
    "\n",
    "$$l_\\Pi(\\pi) = \\begin{cases}0\\;\\;\\;\\;\\;\\text{if }\\pi\\in\\Pi ,\\\\+\\infty\\;\\text{ otherwise }\\end{cases}$$\n",
    "\n",
    "We can plug this $0$ to the Kantorovich problem formulation:\n",
    "\n",
    "$$\\inf_{\\pi\\in\\Pi} \\biggl\\{\\int c(x,y)d\\pi + \\sup_{u,v} \\;\\biggl\\{ \\int u(x) d\\mu + \\int v(y) d\\nu - \\int (u(x)+v(y))d\\pi \\biggr\\}\\biggr\\}$$\n",
    "\n",
    "$$\\inf_{\\pi\\in\\Pi} \\sup_{u,v} \\; \\biggl\\{\\int c(x,y)d\\pi + \\int u(x) d\\mu + \\int v(y) d\\nu - \\int (u(x)+v(y))d\\pi \\biggr\\}$$\n",
    "\n",
    "$$\\sup_{u,v} \\;  \\biggl\\{\\int u(x) d\\mu + \\int v(y) d\\nu + \\inf_{\\pi\\in\\Pi} \\int (c(x,y)-u(x)-v(y))d\\pi \\biggr\\}$$\n",
    "\n",
    "Since $c(x,y)\\geq 0$, if $u(x)+v(y)\\leq c(x,y)$, then the $\\inf$ will be $0$. However, for any point, such that $u(x)+v(y)>c(x,y)$ we can have infinite mass in $\\pi$. Thus:\n",
    "\n",
    "$$\\inf_{\\pi\\in\\Pi} \\int (c(x,y)-u(x)-v(y))d\\pi = \\begin{cases}0,\\;\\;\\;\\;\\;\\text{if }u\\oplus v\\leq c \\\\ -\\infty\\;\\;\\;\\;\\;\\;\\text{otherwise}\\end{cases}$$\n",
    "\n",
    "We can now fix this additional condition ($u\\oplus v\\leq c$) and finally formulate a **Kantorovich dual problem:**\n",
    "\n",
    "$$\\sup_{u\\oplus v\\leq c} \\biggl\\{ \\int u(x)d\\mu + \\int v(y)d\\nu \\biggr\\}$$\n",
    "\n",
    "Here $u(x), v(y)$ are called **Kantorovich potentials**, they are dual variables for the primal problem.\n",
    "\n",
    "\n"
   ]
  },
  {
   "cell_type": "markdown",
   "metadata": {},
   "source": [
    "## Entropic regularization\n",
    "\n",
    "Let's add an entropic term $\\varepsilon H(\\hat\\pi)$ to the primal Kantorovich problem (here $\\hat\\pi$ is a density of $\\pi$ w.r.t either $dxdy$, or $d(\\mu\\otimes\\nu)$, so $\\hat\\pi$ can be either $\\frac{d\\pi}{dxdy}$ or $\\frac{d\\pi}{d(\\mu\\otimes\\nu)}$ respectively)\n",
    "\n",
    "$$\\inf_{\\pi\\in\\Pi} \\biggl\\{  \\int cd\\pi + \\varepsilon H\\bigl(\\hat\\pi\\bigr)\\biggr\\}$$\n",
    "\n",
    "It is equivalent to adding its Legendre transform to the dual problem:\n",
    "\n",
    "$$\\sup_{u\\oplus v\\leq c} \\biggl\\{ \\int ud\\mu + \\int vd\\nu - \\varepsilon H^*\\biggl(\\frac{u\\oplus v-c}{\\varepsilon}\\biggr)\\biggr\\}$$\n",
    "\n",
    "Where $H^*$ refers to Legendre transform of the entropy: $f^*(x^*) = \\sup_x \\{\\langle x^*,x\\rangle - f(x)\\}$\n",
    "\n",
    "For instance, if we choose Shannon entropy $H[\\rho]=\\int \\rho(x)\\ln\\rho(x)dx$\n",
    "\n",
    "$$H^*[\\rho^*] = \\sup_\\rho\\; \\{\\int \\rho \\rho^* dx - \\int \\rho\\ln\\rho dx \\}$$\n",
    "\n",
    "First variation is zero (here $\\chi$ is any function, such that $\\int\\chi dx = 0$):\n",
    "\n",
    "$$\\lim_{\\delta\\rightarrow 0}\\frac{\\bigl[\\int (\\rho + \\delta\\chi) \\rho^* dx - \\int (\\rho+\\delta\\chi)\\ln(\\rho+\\delta\\chi)dx\\bigr] - \\bigl[\\int \\rho \\rho^* dx - \\int \\rho\\ln\\rho dx\\bigr]}{\\delta}=0$$\n",
    "\n",
    "$$\\lim_{\\delta\\rightarrow 0}\\frac{\\bigl[\\int \\rho^*\\delta\\chi dx - \\int (\\rho+\\delta\\chi)\\ln(\\rho+\\delta\\chi)dx\\bigr] - \\bigl[- \\int \\rho\\ln\\rho dx\\bigr]}{\\delta}=0$$\n",
    "\n",
    "$$\\int \\rho^*\\chi dx - \\int \\chi(\\ln\\rho+1) dx =0$$\n",
    "\n",
    "$$\\int [\\rho^*-\\ln\\rho-1]\\chi dx = 0$$\n",
    "\n",
    "$$\\rho = e^{\\rho^*-1}$$\n",
    "\n",
    "$$H^*[\\rho^*] = \\int u e^{\\rho^*-1} dx - \\int (\\rho^*-1) e^{\\rho^*-1} dx$$\n",
    "\n",
    "$$H^*[\\rho^*] = \\int e^{\\rho^*-1} dx$$\n",
    "\n",
    "*Note: we can get rid of $-1$ by plugging it into the $\\ln$ in the entropy definition*\n",
    "\n",
    "**Lemma:** $C_\\varepsilon \\geq D_\\varepsilon$, moreover, $C_\\varepsilon=D_\\varepsilon\\;\\Leftrightarrow\\;\\hat\\pi=\\frac{u\\oplus v-c}{\\varepsilon}$ \n",
    "\n",
    "**Proof:**\n",
    "\n",
    "For the case $\\hat\\pi$ is a density of $\\pi$ w.r.t. $dxdy$, let $f(x)$ be a density of $\\mu(x)$ and $g(y)$ a density of $\\nu(y)$\n",
    "\n",
    "$$C_\\varepsilon(\\hat\\pi)=\\int c\\hat\\pi dxdy + \\varepsilon H(\\hat \\pi) = \\int c\\hat\\pi dxdy + \\varepsilon\\int \\Phi(\\hat\\pi) dxdy=$$\n",
    "\n",
    "$$=\\int u f dx + \\int v g dy + \\int ((c-u\\ominus v)\\hat\\pi + \\varepsilon\\Phi(\\hat\\pi))dxdy = \\int u f dx + \\int vgdy + \\int (c-u\\ominus v)\\hat\\pi dxdy + \\varepsilon H[\\hat\\pi]$$\n",
    "\n",
    "Now we note that $H^*[\\hat\\pi^*] = \\sup_{\\hat\\pi} \\biggl\\{ \\int \\hat\\pi \\hat\\pi^* dxdy - H[\\hat\\pi] \\biggr\\}$ $\\Rightarrow$ $- \\int \\hat\\pi\\hat\\pi^* dxdy + H[\\hat\\pi] \\geq -H^*[\\hat\\pi^*]$, thus if we substitute $\\hat\\pi^*=\\frac{u\\oplus v - c}{\\varepsilon}$:\n",
    "\n",
    "$$C_{\\varepsilon}(\\hat \\pi) \\geq \\int ufdx + \\int vgdy - \\varepsilon H^*[\\frac{u\\oplus v - c}{\\varepsilon}] = D_\\varepsilon\\;\\;\\;\\;(*)$$\n",
    "\n",
    "Also, note that for $H[\\hat\\pi]=\\int \\Phi(\\hat\\pi)dxdy$ we have $H^*[\\hat\\pi^*]=\\int\\Phi^*(\\hat\\pi^*)dxdy$ and the point $\\hat\\pi = \\Phi^*[\\frac{u\\oplus v-c}{\\varepsilon}]$ is the point, where we have the $\\sup_{\\hat\\pi} \\biggl\\{ \\int \\hat\\pi \\hat\\pi^* dxdy - H[\\hat\\pi] \\biggr\\}$, thus the $(*)$ becomes an equality in this case."
   ]
  },
  {
   "cell_type": "markdown",
   "metadata": {},
   "source": [
    "## Sinkhorn algorithm for two marginals\n",
    "\n",
    "Since in the entropy-regularized dual Kantorovich problem we don't need to keep an eye on $\\pi\\in\\Pi$ anymore, we can try to find its $\\sup$ by simple differentiation (mind we got strict concavity).\n",
    "\n",
    "Let's try to do it in a discrete case and Shannon entropy:\n",
    "\n",
    "$$D_\\varepsilon = \\sum_i u_i a_i + \\sum_j v_j b_j - \\varepsilon \\sum_{i,j} \\exp(\\frac{u_i + v_j - c_{ij}}{\\varepsilon})$$\n",
    "\n",
    "$$\\frac{\\partial D_\\varepsilon}{\\partial u_i} = \\sum_i a_i - \\varepsilon\\sum_i \\exp(\\frac{u_i}{\\varepsilon})\\sum_j \\exp(\\frac{v_j-c_{ij}}{\\varepsilon}) = 0$$\n",
    "\n",
    "$$\\sum_i a_i = \\sum_i \\varepsilon\\exp(\\frac{u_i}{\\varepsilon})\\sum_j\\exp(\\frac{v_j-c_{ij}}{\\varepsilon})$$\n",
    "\n",
    "We're looking for a unique solution, this is suitable:\n",
    "\n",
    "$$a_i = \\varepsilon\\exp(\\frac{u_i}{\\varepsilon})\\sum_j\\exp(\\frac{v_j-c_{ij}}{\\varepsilon})$$\n",
    "\n",
    "$$\\exp(\\frac{u_i}{\\varepsilon}) = \\frac{a_i}{\\varepsilon\\sum_j\\exp(\\frac{u_i-c_{ij}}{\\varepsilon})}$$\n",
    "\n",
    "$$u_i = \\varepsilon\\ln\\frac{a_i}{\\varepsilon\\sum_j \\exp(\\frac{v_j-c_{ij}}{\\varepsilon})}$$\n",
    "\n",
    "Thus, having $v_j$ we can construct optimal $u_i$. Same vice-versa, hence, we can formulate the algorithm of alternate maximization of the dual problem (Sinkhorn algorithm):\n",
    "\n",
    "$$\\begin{cases}u_i^{(n)}=\\varepsilon\\ln\\frac{a_i}{\\varepsilon\\sum_j\\exp(\\frac{v_j^{(n-1)}-c_{ij}}{\\varepsilon})}\\\\v_j^{(n)}=\\varepsilon\\ln\\frac{b_j}{\\varepsilon\\sum_i\\exp(\\frac{u_i^{(n)}-c_{ij}}{\\varepsilon})}\\end{cases}$$\n",
    "\n",
    "The coupling can be reconstructed from the potentials:\n",
    "\n",
    "$$P = \\mathsf{diag}(\\exp{\\frac{u}{\\varepsilon}})\\;\\exp\\frac{-c}{\\varepsilon}\\;\\mathsf{diag}(\\exp\\frac{v}{\\varepsilon})$$"
   ]
  },
  {
   "cell_type": "markdown",
   "metadata": {},
   "source": [
    "## Sinkhorn algorithm in the continuous case\n",
    "\n",
    "In the continuous case the dual problem reads as follows:\n",
    "\n",
    "$$D_\\varepsilon = \\int ud\\mu + \\int vd\\nu - \\varepsilon H^*$$\n",
    "\n",
    "where $H^*$ can be either $H_1^* = \\int \\exp\\biggl(\\frac{u\\oplus v - c}{\\varepsilon}\\biggr)d(\\mu\\otimes\\nu)$ or $H_2^* = \\int \\exp\\biggl(\\frac{u\\oplus v - c}{\\varepsilon}\\biggr)dxdy$\n",
    "\n",
    "For the $H_1^*$ case (note we're computing the variation without mass saving condition $\\int \\chi dx = 0$):\n",
    "\n",
    "$$\\frac{\\delta D_\\varepsilon}{\\delta u} = \\lim_{\\delta \\rightarrow 0}\\frac{\\int\\delta\\chi d\\mu + \\varepsilon\\int [e^\\frac{u\\oplus v-c}{\\varepsilon} - e^\\frac{(u+\\delta\\chi)\\oplus v - c}{\\varepsilon}]d(\\mu\\otimes\\nu)}{\\delta} = \\lim_{\\delta\\rightarrow 0} \\biggl\\{ \\int\\chi d\\mu + \\varepsilon\\int\\chi e^{\\frac{\\delta\\chi}{\\varepsilon}}e^{\\frac{u\\oplus v - c}{\\varepsilon}}d(\\mu\\otimes\\nu)\\biggr\\}=\\int\\chi d\\mu + \\varepsilon\\int\\chi e^{\\frac{u\\oplus v - c}{\\varepsilon}}d(\\mu\\otimes\\nu)=0$$\n",
    "\n",
    "$$\\int e^\\frac{u\\oplus v - c}{\\varepsilon}d\\nu = 1$$\n",
    "\n",
    "$$u = \\varepsilon\\ln\\frac{1}{\\int e^\\frac{v-c}{\\varepsilon}d\\nu}=-\\varepsilon\\ln\\int\\exp(\\frac{v-c}{\\varepsilon})d\\nu$$\n",
    "\n",
    "Similarly,\n",
    "$$v = -\\varepsilon\\ln\\int\\exp(\\frac{u-c}{\\varepsilon})d\\mu$$\n",
    "\n",
    "Thus, if our entropic term integrates by measure, the continuous Sinkhorn becomes:\n",
    "\n",
    "$$\\begin{cases}u^{(n)}=-\\varepsilon\\ln\\int\\exp(\\frac{v^{(n-1)}-c}{\\varepsilon})d\\nu\\\\v^{(n)} = -\\varepsilon\\ln\\int\\exp(\\frac{u^{(n)}-c}{\\varepsilon})d\\mu\\end{cases}$$\n",
    "\n",
    "However, if we use $H_2^*$ as the Legendre transform of the entropy, the variation (for instance, w.r.t $u$) becomes:\n",
    "\n",
    "$$\\frac{\\delta D_\\varepsilon}{\\delta u} = \\int \\chi f(x)dx - \\varepsilon \\int \\chi e^\\frac{u\\oplus v-c}{\\varepsilon}dxdy = 0$$\n",
    "\n",
    "Hence:\n",
    "\n",
    "$$\\int e^\\frac{u\\oplus v - c}{\\varepsilon} dy = f(x)$$\n",
    "\n",
    "In this case the Sinkhorn algorithm will be different:\n",
    "\n",
    "$$\\begin{cases}u^{(n)} = \\varepsilon\\ln\\frac{f(x)}{\\varepsilon\\int\\exp\\frac{v^{(n-1)} - c}{\\varepsilon}dy}\\\\v^{(n)} = \\varepsilon\\ln\\frac{g(x)}{\\varepsilon\\int\\exp\\frac{u^{(n)} - c}{\\varepsilon}dy} \\end{cases}$$"
   ]
  },
  {
   "cell_type": "markdown",
   "metadata": {},
   "source": [
    "## Sinkhorn implementation in the discrete case: two marginals, Shannon entropy"
   ]
  },
  {
   "cell_type": "code",
   "execution_count": 30,
   "metadata": {},
   "outputs": [],
   "source": [
    "from IPython import display\n",
    "import torch\n",
    "from tqdm.notebook import tqdm\n",
    "import matplotlib.pyplot as plt\n",
    "\n",
    "def density_from_function(function, shape):\n",
    "    indices = torch.cartesian_prod(*[torch.tensor(list(range(x))) for x in shape])\n",
    "    return (1.*function(indices)).reshape(*shape)\n",
    "\n",
    "def gaussian(shape, loc, cov):\n",
    "    s = torch.zeros(*shape)\n",
    "    if len(shape) > 1:\n",
    "        d = torch.distributions.multivariate_normal.MultivariateNormal(\n",
    "            loc=torch.FloatTensor(loc), \n",
    "            covariance_matrix=torch.FloatTensor(cov)\n",
    "        )\n",
    "    else: \n",
    "        d = torch.distributions.normal.Normal(\n",
    "            loc=torch.FloatTensor([loc]).item(),\n",
    "            scale=torch.FloatTensor([cov]).item()\n",
    "        )\n",
    "    return density_from_function(lambda x: torch.exp(d.log_prob(x)), shape) \n",
    "\n",
    "def cost_from_function(function, support_shape):\n",
    "    t = []\n",
    "    c = torch.cartesian_prod(*[torch.tensor(list(range(x))) for x in list(support_shape)+list(support_shape)])\n",
    "    l = len(support_shape)\n",
    "    for i,j in zip(range(l),range(l,2*l)):\n",
    "        t.append(function(c[:, i], c[:, j]))\n",
    "    return torch.vstack(t).sum(0).reshape(list(support_shape)+list(support_shape))\n",
    "        \n",
    "def l2_cost(support_shape):\n",
    "    return cost_from_function(lambda x, y: (x-y)**2, support_shape)\n",
    "\n",
    "def marginal(rho, *args):\n",
    "    b = rho\n",
    "    for i in range(len(rho.shape)-1, -1, -1):\n",
    "        if i in args:\n",
    "            b = b.sum(i)\n",
    "    return b\n",
    "\n",
    "def sinkhorn(a,b,c,d,e):\n",
    "    # To be explicit, here I keep the original shapes of the tensors (dimensionalities of the supports)\n",
    "    # However, we can deal with 1D flattened tensors (it is possible because cost is also flattened)\n",
    "    i_ndex, j_ndex = (list(a.shape) + [1 for i in range(len(a.shape))]), ([1 for i in range(len(a.shape))] + list(a.shape))\n",
    "    u, v = torch.zeros(a.shape).reshape(*i_ndex), torch.zeros(b.shape).reshape(*j_ndex)\n",
    "    a, b = a.reshape(*i_ndex), b.reshape(*j_ndex)\n",
    "    l, r = [i for i in range(len(c.shape) // 2)], [i for i in range(len(c.shape) // 2, len(c.shape))]\n",
    "    for i in tqdm(range(d)):\n",
    "        # I know here I could use e^{u/epsilon} instead of u to make the steps easier: u <- a/Kv, v <- b/Ku\n",
    "        # Just wanted to be explicit here\n",
    "        u = e * ( torch.log(a) - torch.log( (e * marginal(torch.exp( (v-c) / (e) ), *r) ) ).reshape(*i_ndex) )\n",
    "        v = e * ( torch.log(b) - torch.log( (e * marginal(torch.exp( (u-c) / (e) ), *l) ) ).reshape(*j_ndex) )\n",
    "    p = torch.diag(torch.exp(u.flatten() / e)) @ torch.exp(-c / e) @ torch.diag(torch.exp(v.flatten() / e))\n",
    "    return u.flatten(), v.flatten(), p"
   ]
  },
  {
   "cell_type": "code",
   "execution_count": 31,
   "metadata": {},
   "outputs": [
    {
     "data": {
      "application/vnd.jupyter.widget-view+json": {
       "model_id": "881b5f0e380d42ad837088ff80cb5ee6",
       "version_major": 2,
       "version_minor": 0
      },
      "text/plain": [
       "  0%|          | 0/100 [00:00<?, ?it/s]"
      ]
     },
     "metadata": {},
     "output_type": "display_data"
    },
    {
     "data": {
      "text/plain": [
       "<matplotlib.image.AxesImage at 0x7fcb4080f820>"
      ]
     },
     "execution_count": 31,
     "metadata": {},
     "output_type": "execute_result"
    },
    {
     "data": {
      "image/png": "[encoded data removed]",
      "text/plain": [
       "<Figure size 432x288 with 1 Axes>"
      ]
     },
     "metadata": {
      "needs_background": "light"
     },
     "output_type": "display_data"
    }
   ],
   "source": [
    "supp = (100,)\n",
    "\n",
    "a = gaussian(supp, 20, 10)\n",
    "b = gaussian(supp, 70, 20)\n",
    "b = 0.5*a + 0.5*b\n",
    "\n",
    "c = torch.sqrt(l2_cost(supp))\n",
    "e = 100\n",
    "\n",
    "u, v, p = sinkhorn(\n",
    "    a,\n",
    "    b,\n",
    "    c,\n",
    "    100,\n",
    "    e\n",
    ")\n",
    "\n",
    "plt.imshow(p)\n",
    "# looks plausible"
   ]
  },
  {
   "cell_type": "markdown",
   "metadata": {},
   "source": [
    "## Multi-marginal OT\n",
    "\n",
    "Previously we computed optimal $\\pi$ for two marginals: $\\mu$ and $\\nu$. However, it is possible to formulate the Kantorovich problem for a bigger number of marginals (note, that number of marginals is not connected to the dimensionality of supports, i.e. we can have ten 1D-marginals or two 10D-marginals)\n",
    "\n",
    "Let $\\mu_1,...,\\mu_n$ be our marginals (with distributions $f_1(x_1),...,f_n(x_n)$ respectively)\n",
    "\n",
    "Then the multi-marginal Kantorovich Shannon entropy-regularized dual problem will be:\n",
    "\n",
    "$$\\sup \\biggl\\{\\sum_i \\int u_i d\\mu_i - \\varepsilon\\int \\exp\\biggl(\\frac{\\oplus_{i} u_i - c}{\\varepsilon}\\biggr)d\\prod_i \\mu_i \\biggr\\}$$\n",
    "\n",
    "Its discrete version ($s_i$ is the support of histogram $f_{s_i}$, and $u_{s_i}$ is the $i$-th Kantorovich potential):\n",
    "\n",
    "$$\\max \\;\\biggl\\{ \\sum_i \\sum_{s_i} u_{s_i}f_{s_i} - \\varepsilon\\sum_{i}\\sum_{s_i}\\exp\\biggl(\\frac{\\oplus_i u_{s_i} - c}{\\varepsilon}\\biggr)\\biggr\\}$$\n",
    "\n",
    "The discrete Sinkhorn iteration for the Shannon entropy case can be rewritten as follows:\n",
    "\n",
    "$$u_{s_i}^{(n+1)}=\\varepsilon\\ln \\biggl[ f_{s_i} \\big/ \\sum_{j\\neq i}\\sum_{s_i} \\exp\\biggl(\\frac{\\oplus_{j\\neq i}u_{s_j}^{(\\overline n_{ij})}-c_{s_1,s_2,...,s_n}}{\\varepsilon} \\biggr)\\biggr] $$\n",
    "\n",
    "where\n",
    "\n",
    "$$\\overline n_{ij} = \\begin{cases}n-1,\\;\\;j>i\\\\n,\\;\\;\\;\\;\\;\\;\\;j<i\\end{cases}$$"
   ]
  },
  {
   "cell_type": "markdown",
   "metadata": {},
   "source": [
    "## Multi-marginal Sinkhorn implementation"
   ]
  },
  {
   "cell_type": "code",
   "execution_count": 32,
   "metadata": {},
   "outputs": [],
   "source": [
    "def tensor_sum_except(tensors, except_index):\n",
    "    ts = [t for i,t in enumerate(tensors) if i!=except_index]\n",
    "    ts.insert(except_index, torch.zeros(len(ts[0])))\n",
    "    return sum([t.reshape(*[len(t) if j==i else 1 for j in range(len(ts))]) for i,t in enumerate(ts)])\n",
    "\n",
    "def mm_sinkhorn(marginals, cost, n_iter, epsilon):\n",
    "    supp_shapes = [f.shape for f in marginals]\n",
    "    f, u = [f.flatten() for f in marginals], [torch.ones(s) for s in supp_shapes]\n",
    "    c = cost.reshape(*([len(x) for x in f]))\n",
    "    for i in tqdm(range(n_iter)):\n",
    "        for j in range(len(u)):\n",
    "            u[j] = epsilon*torch.log(f[j]) - epsilon*torch.log(\n",
    "                marginal(torch.exp((tensor_sum_except(u, j) - c)/epsilon), *[k for k in range(len(u)) if k!=j])\n",
    "            )\n",
    "    return u"
   ]
  },
  {
   "cell_type": "code",
   "execution_count": 33,
   "metadata": {},
   "outputs": [
    {
     "data": {
      "application/vnd.jupyter.widget-view+json": {
       "model_id": "02ee926d891a4d29a077c5ef5b22f498",
       "version_major": 2,
       "version_minor": 0
      },
      "text/plain": [
       "  0%|          | 0/100 [00:00<?, ?it/s]"
      ]
     },
     "metadata": {},
     "output_type": "display_data"
    },
    {
     "data": {
      "text/plain": [
       "<matplotlib.image.AxesImage at 0x7fcb786a74c0>"
      ]
     },
     "execution_count": 33,
     "metadata": {},
     "output_type": "execute_result"
    },
    {
     "data": {
      "image/png": "[encoded data removed]",
      "text/plain": [
       "<Figure size 432x288 with 1 Axes>"
      ]
     },
     "metadata": {
      "needs_background": "light"
     },
     "output_type": "display_data"
    }
   ],
   "source": [
    "supp = (100,)\n",
    "\n",
    "a = gaussian(supp, 20, 10)\n",
    "b = gaussian(supp, 70, 20)\n",
    "b = 0.5*a + 0.5*b\n",
    "\n",
    "c = torch.sqrt(l2_cost(supp))\n",
    "e = 100\n",
    "\n",
    "u = mm_sinkhorn(\n",
    "    marginals=[a,b],\n",
    "    cost=c,\n",
    "    n_iter=100,\n",
    "    epsilon=100\n",
    ")\n",
    "\n",
    "p = torch.diag(torch.exp(u[0]/e)) @ torch.exp(-c/e) @ torch.diag(torch.exp(u[1]/e))\n",
    "\n",
    "plt.imshow(p)"
   ]
  },
  {
   "cell_type": "markdown",
   "metadata": {},
   "source": [
    "## Trying the real multi-marginal case\n",
    "\n"
   ]
  },
  {
   "cell_type": "code",
   "execution_count": 34,
   "metadata": {},
   "outputs": [],
   "source": [
    "from itertools import combinations\n",
    "\n",
    "def mm_1d_cost_from_function(function, support_shapes):\n",
    "    t = []\n",
    "    c = torch.cartesian_prod(*[torch.tensor(list(range(x))) for x in list(support_shapes)])\n",
    "    l = len(support_shapes)\n",
    "    s = 0\n",
    "    for i,j in combinations(list(range(l)), 2):\n",
    "        s += function(c[:, i], c[:, j])\n",
    "    return s.reshape(*support_shapes)\n",
    "\n",
    "def mm_1d_l2_cost(support_shapes):\n",
    "    return mm_1d_cost_from_function(lambda x, y: (x-y)**2, support_shapes)"
   ]
  },
  {
   "cell_type": "code",
   "execution_count": 35,
   "metadata": {},
   "outputs": [
    {
     "data": {
      "application/vnd.jupyter.widget-view+json": {
       "model_id": "9ac47a519d7540be8264737b54f4792a",
       "version_major": 2,
       "version_minor": 0
      },
      "text/plain": [
       "  0%|          | 0/100 [00:00<?, ?it/s]"
      ]
     },
     "metadata": {},
     "output_type": "display_data"
    },
    {
     "data": {
      "text/plain": [
       "<matplotlib.legend.Legend at 0x7fcb40019e20>"
      ]
     },
     "execution_count": 35,
     "metadata": {},
     "output_type": "execute_result"
    },
    {
     "data": {
      "image/png": "[encoded data removed]",
      "text/plain": [
       "<Figure size 432x288 with 1 Axes>"
      ]
     },
     "metadata": {
      "needs_background": "light"
     },
     "output_type": "display_data"
    }
   ],
   "source": [
    "supp = (100,)\n",
    "\n",
    "a = gaussian(supp, 20, 10)\n",
    "b = gaussian(supp, 70, 20)\n",
    "b = 0.5*a + 0.5*b\n",
    "d = gaussian(supp, 30, 10)\n",
    "\n",
    "c = torch.sqrt(mm_1d_l2_cost(supp*3))\n",
    "e = 100\n",
    "\n",
    "u = mm_sinkhorn(\n",
    "    marginals=[a,b,d],\n",
    "    cost=c,\n",
    "    n_iter=100,\n",
    "    epsilon=100\n",
    ")\n",
    "\n",
    "plt.plot(u[0], label=\"u1\")\n",
    "plt.plot(u[1], label=\"u2\")\n",
    "plt.plot(u[2], label=\"u3\")\n",
    "plt.legend()"
   ]
  }
 ],
 "metadata": {
  "kernelspec": {
   "display_name": "Python 3",
   "language": "python",
   "name": "python3"
  },
  "language_info": {
   "codemirror_mode": {
    "name": "ipython",
    "version": 3
   },
   "file_extension": ".py",
   "mimetype": "text/x-python",
   "name": "python",
   "nbconvert_exporter": "python",
   "pygments_lexer": "ipython3",
   "version": "3.8.5"
  }
 },
 "nbformat": 4,
 "nbformat_minor": 4
}
